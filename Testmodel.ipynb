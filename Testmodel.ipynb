{
 "cells": [
  {
   "cell_type": "code",
   "execution_count": 5,
   "metadata": {},
   "outputs": [],
   "source": [
    "from photutils import isophote\n",
    "from photutils.isophote import EllipseGeometry\n",
    "\n",
    "from photutils.isophote import Ellipse\n",
    "from photutils.isophote import EllipseSample\n",
    "from photutils.isophote import EllipseFitter\n",
    "import numpy as np\n",
    "from astropy.modeling.models import Gaussian2D\n",
    "from photutils.datasets import make_noise_image\n",
    "\n",
    "from photutils.isophote import EllipseGeometry\n",
    "\n",
    "import matplotlib.pyplot as plt\n",
    "from photutils.aperture import EllipticalAperture\n",
    "\n",
    "import math\n",
    "from photutils.isophote import Ellipse"
   ]
  },
  {
   "cell_type": "code",
   "execution_count": 6,
   "metadata": {},
   "outputs": [],
   "source": [
    "# build model images in demo\n",
    "g = Gaussian2D(100., 75, 75, 20, 12, theta=40.*np.pi/180.)\n",
    "ny = nx = 150\n",
    "y, x = np.mgrid[0:ny, 0:nx]\n",
    "noise = make_noise_image((ny, nx), distribution='gaussian', mean=0.,stddev=2., random_state=123)\n",
    "data = g(x, y) + noise"
   ]
  },
  {
   "cell_type": "code",
   "execution_count": 7,
   "metadata": {},
   "outputs": [
    {
     "name": "stdout",
     "output_type": "stream",
     "text": [
      "1.0 100.905 75.0 0.698 0.4\n",
      "1.255 100.85 75.0 0.698 0.4\n",
      "1.575 100.66 75.0 0.698 0.4\n",
      "1.977 100.311 75.0 0.698 0.4\n",
      "2.482 99.687 75.0 0.698 0.4\n",
      "3.115 98.522 75.0 0.698 0.4\n",
      "3.91 97.581 75.0 0.698 0.4\n",
      "4.907 97.275 75.0 0.698 0.4\n"
     ]
    },
    {
     "ename": "AttributeError",
     "evalue": "'NoneType' object has no attribute 'update'",
     "output_type": "error",
     "traceback": [
      "\u001b[0;31m---------------------------------------------------------------------------\u001b[0m",
      "\u001b[0;31mAttributeError\u001b[0m                            Traceback (most recent call last)",
      "\u001b[0;32m<ipython-input-7-3867f763af21>\u001b[0m in \u001b[0;36m<module>\u001b[0;34m\u001b[0m\n\u001b[1;32m      5\u001b[0m     \u001b[0msample1\u001b[0m  \u001b[0;34m=\u001b[0m \u001b[0mEllipseSample\u001b[0m\u001b[0;34m(\u001b[0m\u001b[0mdata\u001b[0m\u001b[0;34m,\u001b[0m \u001b[0maper_sma\u001b[0m\u001b[0;34m,\u001b[0m \u001b[0mgeometry\u001b[0m\u001b[0;34m=\u001b[0m\u001b[0mgeo\u001b[0m\u001b[0;34m)\u001b[0m\u001b[0;34m\u001b[0m\u001b[0;34m\u001b[0m\u001b[0m\n\u001b[1;32m      6\u001b[0m     \u001b[0mFitter1\u001b[0m  \u001b[0;34m=\u001b[0m \u001b[0mEllipseFitter\u001b[0m\u001b[0;34m(\u001b[0m\u001b[0msample1\u001b[0m\u001b[0;34m)\u001b[0m\u001b[0;34m\u001b[0m\u001b[0;34m\u001b[0m\u001b[0m\n\u001b[0;32m----> 7\u001b[0;31m     \u001b[0misolist1\u001b[0m \u001b[0;34m=\u001b[0m \u001b[0mFitter1\u001b[0m\u001b[0;34m.\u001b[0m\u001b[0mfit\u001b[0m\u001b[0;34m(\u001b[0m\u001b[0;34m)\u001b[0m\u001b[0;34m\u001b[0m\u001b[0;34m\u001b[0m\u001b[0m\n\u001b[0m\u001b[1;32m      8\u001b[0m \u001b[0;34m\u001b[0m\u001b[0m\n\u001b[1;32m      9\u001b[0m     \u001b[0mprint\u001b[0m\u001b[0;34m(\u001b[0m\u001b[0mround\u001b[0m\u001b[0;34m(\u001b[0m\u001b[0maper_sma\u001b[0m\u001b[0;34m,\u001b[0m\u001b[0;36m3\u001b[0m\u001b[0;34m)\u001b[0m\u001b[0;34m,\u001b[0m \u001b[0mround\u001b[0m\u001b[0;34m(\u001b[0m\u001b[0misolist1\u001b[0m\u001b[0;34m.\u001b[0m\u001b[0mintens\u001b[0m\u001b[0;34m,\u001b[0m\u001b[0;36m3\u001b[0m\u001b[0;34m)\u001b[0m\u001b[0;34m,\u001b[0m \u001b[0mround\u001b[0m\u001b[0;34m(\u001b[0m\u001b[0misolist1\u001b[0m\u001b[0;34m.\u001b[0m\u001b[0mx0\u001b[0m\u001b[0;34m,\u001b[0m\u001b[0;36m3\u001b[0m\u001b[0;34m)\u001b[0m\u001b[0;34m,\u001b[0m\u001b[0mround\u001b[0m\u001b[0;34m(\u001b[0m\u001b[0misolist1\u001b[0m\u001b[0;34m.\u001b[0m\u001b[0mpa\u001b[0m\u001b[0;34m,\u001b[0m\u001b[0;36m3\u001b[0m\u001b[0;34m)\u001b[0m\u001b[0;34m,\u001b[0m \u001b[0mround\u001b[0m\u001b[0;34m(\u001b[0m\u001b[0misolist1\u001b[0m\u001b[0;34m.\u001b[0m\u001b[0meps\u001b[0m\u001b[0;34m,\u001b[0m\u001b[0;36m3\u001b[0m\u001b[0;34m)\u001b[0m\u001b[0;34m)\u001b[0m\u001b[0;34m\u001b[0m\u001b[0;34m\u001b[0m\u001b[0m\n",
      "\u001b[0;32m~/zps/software/anaconda3/envs/astroconda/lib/python3.6/site-packages/photutils/isophote/fitter.py\u001b[0m in \u001b[0;36mfit\u001b[0;34m(self, conver, minit, maxit, fflag, maxgerr, going_inwards)\u001b[0m\n\u001b[1;32m    225\u001b[0m         \u001b[0;31m# code 2, and handle it as a valid isophote. Use the\u001b[0m\u001b[0;34m\u001b[0m\u001b[0;34m\u001b[0m\u001b[0;34m\u001b[0m\u001b[0m\n\u001b[1;32m    226\u001b[0m         \u001b[0;31m# best fit sample instead of the current one.\u001b[0m\u001b[0;34m\u001b[0m\u001b[0;34m\u001b[0m\u001b[0;34m\u001b[0m\u001b[0m\n\u001b[0;32m--> 227\u001b[0;31m         \u001b[0mminimum_amplitude_sample\u001b[0m\u001b[0;34m.\u001b[0m\u001b[0mupdate\u001b[0m\u001b[0;34m(\u001b[0m\u001b[0mfixed_parameters\u001b[0m\u001b[0;34m)\u001b[0m\u001b[0;34m\u001b[0m\u001b[0;34m\u001b[0m\u001b[0m\n\u001b[0m\u001b[1;32m    228\u001b[0m         \u001b[0;32mreturn\u001b[0m \u001b[0mIsophote\u001b[0m\u001b[0;34m(\u001b[0m\u001b[0mminimum_amplitude_sample\u001b[0m\u001b[0;34m,\u001b[0m \u001b[0mmaxit\u001b[0m\u001b[0;34m,\u001b[0m \u001b[0;32mTrue\u001b[0m\u001b[0;34m,\u001b[0m \u001b[0;36m2\u001b[0m\u001b[0;34m)\u001b[0m\u001b[0;34m\u001b[0m\u001b[0;34m\u001b[0m\u001b[0m\n\u001b[1;32m    229\u001b[0m \u001b[0;34m\u001b[0m\u001b[0m\n",
      "\u001b[0;31mAttributeError\u001b[0m: 'NoneType' object has no attribute 'update'"
     ]
    }
   ],
   "source": [
    "# run test for a sequence of sma\n",
    "aper_pix = np.logspace(math.log10(1),math.log10(75),20)\n",
    "for aper_sma in aper_pix:\n",
    "    geo = EllipseGeometry(x0=75, y0=75, sma=2, eps=0.4, pa=40.*np.pi/180., fix_eps =True, fix_center=True, fix_pa=True)\n",
    "    sample1  = EllipseSample(data, aper_sma, geometry=geo)\n",
    "    Fitter1  = EllipseFitter(sample1)\n",
    "    isolist1 = Fitter1.fit()\n",
    "    \n",
    "    print(round(aper_sma,3), round(isolist1.intens,3), round(isolist1.x0,3),round(isolist1.pa,3), round(isolist1.eps,3)) "
   ]
  },
  {
   "cell_type": "code",
   "execution_count": null,
   "metadata": {},
   "outputs": [],
   "source": []
  }
 ],
 "metadata": {
  "kernelspec": {
   "display_name": "Python 3",
   "language": "python",
   "name": "python3"
  },
  "language_info": {
   "codemirror_mode": {
    "name": "ipython",
    "version": 3
   },
   "file_extension": ".py",
   "mimetype": "text/x-python",
   "name": "python",
   "nbconvert_exporter": "python",
   "pygments_lexer": "ipython3",
   "version": "3.6.9"
  }
 },
 "nbformat": 4,
 "nbformat_minor": 2
}
