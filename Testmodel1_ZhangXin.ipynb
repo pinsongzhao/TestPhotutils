{
 "cells": [
  {
   "cell_type": "code",
   "execution_count": 1,
   "metadata": {},
   "outputs": [],
   "source": [
    "from photutils import isophote\n",
    "from photutils.isophote import EllipseGeometry\n",
    "\n",
    "from photutils.isophote import Ellipse\n",
    "from photutils.isophote import EllipseSample\n",
    "from photutils.isophote import EllipseFitter\n",
    "import numpy as np\n",
    "from astropy.modeling.models import Gaussian2D\n",
    "from photutils.datasets import make_noise_image\n",
    "\n",
    "from photutils.isophote import EllipseGeometry\n",
    "\n",
    "import matplotlib.pyplot as plt\n",
    "from photutils.aperture import EllipticalAperture\n",
    "\n",
    "import math\n",
    "from photutils.isophote import Ellipse"
   ]
  },
  {
   "cell_type": "code",
   "execution_count": 2,
   "metadata": {},
   "outputs": [],
   "source": [
    "# build model images in demo\n",
    "g = Gaussian2D(100., 75, 75, 20, 12, theta=40.*np.pi/180.)\n",
    "ny = nx = 150\n",
    "y, x = np.mgrid[0:ny, 0:nx]\n",
    "noise = make_noise_image((ny, nx), distribution='gaussian', mean=0.,stddev=2.)\n",
    "data = g(x, y) + noise"
   ]
  },
  {
   "cell_type": "code",
   "execution_count": 3,
   "metadata": {},
   "outputs": [
    {
     "name": "stdout",
     "output_type": "stream",
     "text": [
      "1.0 100.127 75 0.698 0.4\n",
      "1.255 100.19 75 0.698 0.4\n",
      "1.575 99.96 75 0.698 0.4\n",
      "1.977 99.56 75 0.698 0.4\n",
      "2.482 99.157 75 0.698 0.4\n",
      "3.115 98.564 75 0.698 0.4\n",
      "3.91 97.805 75 0.698 0.4\n",
      "4.907 97.404 75 0.698 0.4\n",
      "6.159 95.607 75 0.698 0.4\n",
      "7.73 93.133 75 0.698 0.4\n",
      "9.702 88.954 75 0.698 0.4\n",
      "12.178 83.878 75 0.698 0.4\n",
      "15.284 74.879 75 0.698 0.4\n",
      "19.184 63.374 75 0.698 0.4\n",
      "24.078 48.861 75 0.698 0.4\n",
      "30.221 32.622 75 0.698 0.4\n",
      "37.931 16.887 75 0.698 0.4\n",
      "47.609 6.228 75 0.698 0.4\n",
      "59.755 1.571 75 0.698 0.4\n",
      "75.0 0.233 75 0.698 0.4\n"
     ]
    }
   ],
   "source": [
    "aper_pix = np.logspace(math.log10(1),math.log10(75),20)\n",
    "for aper_sma in aper_pix:\n",
    "    geo = EllipseGeometry(x0=75, y0=75, sma=2, eps=0.4, pa=40.*np.pi/180., fix_eps =True, fix_center=True, fix_pa=False)\n",
    "    sample1  = EllipseSample(data, aper_sma, geometry=geo)\n",
    "    Fitter1  = EllipseFitter(sample1)\n",
    "    isolist1 = Fitter1.fit(maxit=1,going_inwards=True, conver=0.0)\n",
    "\n",
    "    print(round(aper_sma,3), round(isolist1.intens,3), round(isolist1.x0,3),round(isolist1.pa,3), round(isolist1.eps,3))"
   ]
  },
  {
   "cell_type": "code",
   "execution_count": null,
   "metadata": {},
   "outputs": [],
   "source": []
  }
 ],
 "metadata": {
  "kernelspec": {
   "display_name": "Python 3",
   "language": "python",
   "name": "python3"
  },
  "language_info": {
   "codemirror_mode": {
    "name": "ipython",
    "version": 3
   },
   "file_extension": ".py",
   "mimetype": "text/x-python",
   "name": "python",
   "nbconvert_exporter": "python",
   "pygments_lexer": "ipython3",
   "version": "3.8.5"
  }
 },
 "nbformat": 4,
 "nbformat_minor": 4
}
