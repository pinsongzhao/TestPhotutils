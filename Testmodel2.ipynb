{
 "cells": [
  {
   "cell_type": "code",
   "execution_count": 1,
   "metadata": {},
   "outputs": [],
   "source": [
    "import os \n",
    "from scipy import interpolate\n",
    "import numpy as np\n",
    "import math\n",
    "\n",
    "import codecs\n",
    "import matplotlib.pyplot as plt\n",
    "\n",
    "from astropy.io import fits\n",
    "\n",
    "import matplotlib.ticker as ticker\n",
    "\n",
    "from matplotlib import cm\n",
    "from matplotlib.colors import ListedColormap, LinearSegmentedColormap\n",
    "import matplotlib.colors as colors\n",
    "import matplotlib as mpl\n",
    "\n",
    "from photutils import CircularAperture\n",
    "from photutils import CircularAnnulus\n",
    "from photutils import aperture_photometry\n",
    "\n",
    "from photutils import isophote\n",
    "from photutils.isophote import EllipseGeometry\n",
    "\n",
    "from photutils.isophote import Ellipse\n",
    "from photutils.isophote import EllipseSample\n",
    "from photutils.isophote import EllipseFitter\n",
    "import numpy as np\n",
    "from astropy.modeling.models import Gaussian2D\n",
    "from photutils.datasets import make_noise_image\n",
    "from photutils.aperture import EllipticalAperture"
   ]
  },
  {
   "cell_type": "code",
   "execution_count": 2,
   "metadata": {},
   "outputs": [
    {
     "data": {
      "text/plain": [
       "<matplotlib.legend.Legend at 0x7fdbcca66dd8>"
      ]
     },
     "execution_count": 2,
     "metadata": {},
     "output_type": "execute_result"
    },
    {
     "data": {
      "image/png": "[encoded data removed]",
      "text/plain": [
       "<Figure size 360x360 with 1 Axes>"
      ]
     },
     "metadata": {
      "needs_background": "light"
     },
     "output_type": "display_data"
    }
   ],
   "source": [
    "from photutils.datasets import load_irac_psf\n",
    "\n",
    "ch1_hdu = load_irac_psf(channel=1)\n",
    "ch1 = ch1_hdu.data\n",
    "aper_pix = np.logspace(math.log10(1),math.log10(38),15)\n",
    "inten1 = np.zeros(15)\n",
    "inten2 = np.zeros(15)\n",
    "i=0\n",
    "for aper_sma in aper_pix:\n",
    "    #EllipseSample + EllipseFitter\n",
    "    geo1 = EllipseGeometry(x0=40, y0=40, sma=0.8, eps=0.001, pa=0., fix_eps =True, fix_center=True)\n",
    "    sample1 = EllipseSample(ch1, aper_sma, geometry=geo1)\n",
    "    Fitter1 = EllipseFitter(sample1)\n",
    "    isolist1 = Fitter1.fit()\n",
    "    \n",
    "    #EllipseSample + update\n",
    "    geo2 = EllipseGeometry(x0=40, y0=40, sma=0.8, eps=0.001, pa=0., fix_eps =True, fix_pa=True, fix_center=True)\n",
    "    sample2 = EllipseSample(ch1, aper_sma, geometry=geo2)\n",
    "    sample2.update(fixed_parameters=None)\n",
    "\n",
    "    inten1[i]=isolist1.intens\n",
    "    inten2[i]=sample2.mean\n",
    "    i=i+1\n",
    "\n",
    "fig1,axes=plt.subplots(figsize=(5,5), nrows=1,ncols=1, sharex=True) \n",
    "axes.scatter(aper_pix,inten1,label='EllipseFitter')\n",
    "axes.scatter(aper_pix,inten2,label='Sample.update')\n",
    "axes.set_yscale('log')\n",
    "axes.set_xscale('log')\n",
    "axes.set_xlim(0.8,40)\n",
    "axes.set_ylim(3e-6,0.1)\n",
    "axes.set_xlabel('SMA (pixel)')\n",
    "axes.set_ylabel('INTENS')\n",
    "plt.legend()"
   ]
  },
  {
   "cell_type": "code",
   "execution_count": null,
   "metadata": {},
   "outputs": [],
   "source": []
  }
 ],
 "metadata": {
  "kernelspec": {
   "display_name": "Python 3",
   "language": "python",
   "name": "python3"
  },
  "language_info": {
   "codemirror_mode": {
    "name": "ipython",
    "version": 3
   },
   "file_extension": ".py",
   "mimetype": "text/x-python",
   "name": "python",
   "nbconvert_exporter": "python",
   "pygments_lexer": "ipython3",
   "version": "3.6.9"
  }
 },
 "nbformat": 4,
 "nbformat_minor": 2
}
