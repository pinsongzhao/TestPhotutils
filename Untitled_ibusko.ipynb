{
 "cells": [
  {
   "cell_type": "code",
   "execution_count": 1,
   "metadata": {},
   "outputs": [],
   "source": [
    "from photutils import isophote\n",
    "from photutils.isophote import EllipseGeometry\n",
    "\n",
    "from photutils.isophote import Ellipse\n",
    "from photutils.isophote import EllipseSample\n",
    "from photutils.isophote import EllipseFitter\n",
    "import numpy as np\n",
    "from astropy.modeling.models import Gaussian2D\n",
    "from photutils.datasets import make_noise_image\n",
    "\n",
    "from photutils.isophote import EllipseGeometry\n",
    "\n",
    "import matplotlib.pyplot as plt\n",
    "from photutils.aperture import EllipticalAperture\n",
    "\n",
    "import math\n",
    "from photutils.isophote import Ellipse"
   ]
  },
  {
   "cell_type": "code",
   "execution_count": 2,
   "metadata": {},
   "outputs": [
    {
     "name": "stderr",
     "output_type": "stream",
     "text": [
      "WARNING: AstropyDeprecationWarning: \"random_state\" was deprecated in version 1.0 and will be removed in a future version. Use argument \"seed\" instead. [warnings]\n"
     ]
    }
   ],
   "source": [
    "# build model images in demo\n",
    "g = Gaussian2D(100., 75, 75, 20, 12, theta=40.*np.pi/180.)\n",
    "ny = nx = 150\n",
    "y, x = np.mgrid[0:ny, 0:nx]\n",
    "noise = make_noise_image((ny, nx), distribution='gaussian', mean=0.,stddev=2., random_state=123)\n",
    "data = g(x, y) + noise"
   ]
  },
  {
   "cell_type": "code",
   "execution_count": 6,
   "metadata": {},
   "outputs": [
    {
     "name": "stdout",
     "output_type": "stream",
     "text": [
      "98.27235151931322 1.0\n",
      "98.42600977950164 1.2551263144735807\n",
      "98.62940454278413 1.575342065284034\n",
      "98.85359694987068 1.9772532804351486\n",
      "99.07656746871551 2.4817026226533656\n",
      "99.15489593852098 3.114850266390339\n",
      "98.93691870150295 3.9095305349915566\n",
      "96.87544509504751 4.90695465170588\n",
      "95.27876561612405 6.158847907284594\n",
      "92.9656158588241 7.7301320752734375\n",
      "89.11082068776248 9.702292182031963\n",
      "83.65031451136053 12.177602228379614\n",
      "75.25235779206886 15.284429004031368\n",
      "63.39618991011345 19.18388904466299\n",
      "48.80968793902032 24.078203953897972\n",
      "32.20693899935321 30.221187387799162\n",
      "17.085830897181474 37.93140754506382\n",
      "6.63936313568613 47.60870775483132\n",
      "1.6030691444467697 59.75494190117122\n",
      "0.3608933658564172 75.00000000000001\n"
     ]
    }
   ],
   "source": [
    "# run test for a sequence of sma\n",
    "aper_pix = np.logspace(math.log10(1),math.log10(75),20)\n",
    "for aper_sma in aper_pix:\n",
    "    geo = EllipseGeometry(x0=75, y0=75, sma=2, eps=0.4, pa=40.*np.pi/180., fix_eps =True, fix_center=True, fix_pa=True)\n",
    "    sample1  = EllipseSample(data, aper_sma, geometry=geo)\n",
    "    sample1.update()\n",
    "\n",
    "    print(sample1.mean, sample1.geometry.sma)"
   ]
  },
  {
   "cell_type": "code",
   "execution_count": null,
   "metadata": {},
   "outputs": [],
   "source": []
  }
 ],
 "metadata": {
  "kernelspec": {
   "display_name": "Python 3",
   "language": "python",
   "name": "python3"
  },
  "language_info": {
   "codemirror_mode": {
    "name": "ipython",
    "version": 3
   },
   "file_extension": ".py",
   "mimetype": "text/x-python",
   "name": "python",
   "nbconvert_exporter": "python",
   "pygments_lexer": "ipython3",
   "version": "3.7.3"
  }
 },
 "nbformat": 4,
 "nbformat_minor": 4
}
